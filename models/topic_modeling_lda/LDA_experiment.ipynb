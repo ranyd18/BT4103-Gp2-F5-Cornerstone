{
 "cells": [
  {
   "cell_type": "code",
   "execution_count": 2,
   "id": "prepared-turtle",
   "metadata": {},
   "outputs": [
    {
     "ename": "ModuleNotFoundError",
     "evalue": "No module named 'gensim'",
     "output_type": "error",
     "traceback": [
      "\u001b[0;31m---------------------------------------------------------------------------\u001b[0m",
      "\u001b[0;31mModuleNotFoundError\u001b[0m                       Traceback (most recent call last)",
      "\u001b[0;32m<ipython-input-2-44eb75d83509>\u001b[0m in \u001b[0;36m<module>\u001b[0;34m\u001b[0m\n\u001b[0;32m----> 1\u001b[0;31m \u001b[0;32mimport\u001b[0m \u001b[0mgensim\u001b[0m\u001b[0;34m\u001b[0m\u001b[0;34m\u001b[0m\u001b[0m\n\u001b[0m\u001b[1;32m      2\u001b[0m \u001b[0;32mfrom\u001b[0m \u001b[0mgensim\u001b[0m\u001b[0;34m.\u001b[0m\u001b[0mutils\u001b[0m \u001b[0;32mimport\u001b[0m \u001b[0msimple_preprocess\u001b[0m\u001b[0;34m\u001b[0m\u001b[0;34m\u001b[0m\u001b[0m\n\u001b[1;32m      3\u001b[0m \u001b[0;32mimport\u001b[0m \u001b[0mnltk\u001b[0m\u001b[0;34m\u001b[0m\u001b[0;34m\u001b[0m\u001b[0m\n\u001b[1;32m      4\u001b[0m \u001b[0;32mimport\u001b[0m \u001b[0mpandas\u001b[0m \u001b[0;32mas\u001b[0m \u001b[0mpd\u001b[0m\u001b[0;34m\u001b[0m\u001b[0;34m\u001b[0m\u001b[0m\n\u001b[1;32m      5\u001b[0m \u001b[0;32mfrom\u001b[0m \u001b[0mwordcloud\u001b[0m \u001b[0;32mimport\u001b[0m \u001b[0mWordCloud\u001b[0m\u001b[0;34m\u001b[0m\u001b[0;34m\u001b[0m\u001b[0m\n",
      "\u001b[0;31mModuleNotFoundError\u001b[0m: No module named 'gensim'"
     ]
    }
   ],
   "source": [
    "import gensim\n",
    "from gensim.utils import simple_preprocess\n",
    "import nltk\n",
    "import pandas as pd\n",
    "from wordcloud import WordCloud\n",
    "import os\n",
    "import numpy as np\n",
    "import warnings\n",
    "warnings.filterwarnings('ignore')\n",
    "# View all columns\n",
    "pd.set_option('display.max_columns', None)"
   ]
  },
  {
   "cell_type": "code",
   "execution_count": 1,
   "id": "amended-potter",
   "metadata": {},
   "outputs": [],
   "source": [
    "import pandas as pd"
   ]
  },
  {
   "cell_type": "code",
   "execution_count": 2,
   "id": "circular-distributor",
   "metadata": {},
   "outputs": [
    {
     "name": "stderr",
     "output_type": "stream",
     "text": [
      "/home/nusintern/anaconda3/envs/cornerstone/lib/python3.7/site-packages/IPython/core/interactiveshell.py:3166: DtypeWarning: Columns (41) have mixed types.Specify dtype option on import or set low_memory=False.\n",
      "  interactivity=interactivity, compiler=compiler, result=result)\n"
     ]
    },
    {
     "data": {
      "text/html": [
       "<div>\n",
       "<style scoped>\n",
       "    .dataframe tbody tr th:only-of-type {\n",
       "        vertical-align: middle;\n",
       "    }\n",
       "\n",
       "    .dataframe tbody tr th {\n",
       "        vertical-align: top;\n",
       "    }\n",
       "\n",
       "    .dataframe thead th {\n",
       "        text-align: right;\n",
       "    }\n",
       "</style>\n",
       "<table border=\"1\" class=\"dataframe\">\n",
       "  <thead>\n",
       "    <tr style=\"text-align: right;\">\n",
       "      <th></th>\n",
       "      <th>F5_SLM_Indicator</th>\n",
       "      <th>SR_Number</th>\n",
       "      <th>Abstract</th>\n",
       "      <th>F5_Product_Description</th>\n",
       "      <th>Status</th>\n",
       "      <th>Area</th>\n",
       "      <th>Sub_Status</th>\n",
       "      <th>F5_Product</th>\n",
       "      <th>F5_Platform</th>\n",
       "      <th>Sub_Area</th>\n",
       "      <th>...</th>\n",
       "      <th>Email - Inbound</th>\n",
       "      <th>Research</th>\n",
       "      <th>Problem, Analysis, Resolution</th>\n",
       "      <th>Call - Inbound</th>\n",
       "      <th>Manager Review</th>\n",
       "      <th>Mentor Review</th>\n",
       "      <th>SRT Mentor</th>\n",
       "      <th>RCA</th>\n",
       "      <th>Processed_Abstract</th>\n",
       "      <th>Processed_PAR</th>\n",
       "    </tr>\n",
       "  </thead>\n",
       "  <tbody>\n",
       "    <tr>\n",
       "      <th>0</th>\n",
       "      <td>SLM Met</td>\n",
       "      <td>C3134712</td>\n",
       "      <td>7255 chassis has power but will not power back on</td>\n",
       "      <td>EOS (19_10_01), BIG-IP 7055, WHITETHORNE 2U, A...</td>\n",
       "      <td>Closed</td>\n",
       "      <td>Configuration</td>\n",
       "      <td>Closed</td>\n",
       "      <td>BIG-IP APM</td>\n",
       "      <td>F5-BIG-LTM-7255V, D110</td>\n",
       "      <td>APM-AAA</td>\n",
       "      <td>...</td>\n",
       "      <td>['From: Nick.Volonakis@voya.com\\nTo: \"c.emailc...</td>\n",
       "      <td>['You can follow the next article. Please let ...</td>\n",
       "      <td>['Problem Specification: 7255 chassis has powe...</td>\n",
       "      <td>NaN</td>\n",
       "      <td>NaN</td>\n",
       "      <td>NaN</td>\n",
       "      <td>NaN</td>\n",
       "      <td>NaN</td>\n",
       "      <td>chassis power power</td>\n",
       "      <td>problem specification chassis power power big ...</td>\n",
       "    </tr>\n",
       "    <tr>\n",
       "      <th>1</th>\n",
       "      <td>FR set after SLM Met</td>\n",
       "      <td>C3142146</td>\n",
       "      <td>BIG-IP became Offline status after confg sync....</td>\n",
       "      <td>EOS (18_04_01), BIG-IP, 2000 AC PLATFORM, STRA...</td>\n",
       "      <td>Closed</td>\n",
       "      <td>Software</td>\n",
       "      <td>Closed</td>\n",
       "      <td>BIG-IP ASM</td>\n",
       "      <td>F5-BIG-ASM-2000S, C112</td>\n",
       "      <td>Defect</td>\n",
       "      <td>...</td>\n",
       "      <td>NaN</td>\n",
       "      <td>[\"==== bdgfwf02.jhf-prod.local\\n==== /var/log/...</td>\n",
       "      <td>['### Problem Specification ###\\n bigip became...</td>\n",
       "      <td>NaN</td>\n",
       "      <td>NaN</td>\n",
       "      <td>NaN</td>\n",
       "      <td>NaN</td>\n",
       "      <td>NaN</td>\n",
       "      <td>big ip offline status confg sync ref qljp</td>\n",
       "      <td>problem specification bigip offline config syn...</td>\n",
       "    </tr>\n",
       "    <tr>\n",
       "      <th>2</th>\n",
       "      <td>SLM Met</td>\n",
       "      <td>C3142782</td>\n",
       "      <td>APM 13.1.0.8 - DART Symptoms of ID703171</td>\n",
       "      <td>VIPRION VPR-C2400, VICTORIA AC,4 SLOT CHASSIS,...</td>\n",
       "      <td>Closed</td>\n",
       "      <td>Configuration</td>\n",
       "      <td>Closed</td>\n",
       "      <td>BIG-IP APM</td>\n",
       "      <td>F5-VPR-LTM-C2400-AC, F100</td>\n",
       "      <td>APM-Other</td>\n",
       "      <td>...</td>\n",
       "      <td>[\"From: support@kudelskisecurity.com\\nTo: &lt;c.e...</td>\n",
       "      <td>[\"PRODUCT:\\nAPM 13.1.0.8 - DART Symptoms of ID...</td>\n",
       "      <td>[\"Problem Specification: APM 13.1.0.8 - DART S...</td>\n",
       "      <td>NaN</td>\n",
       "      <td>NaN</td>\n",
       "      <td>NaN</td>\n",
       "      <td>NaN</td>\n",
       "      <td>NaN</td>\n",
       "      <td>apm dart symptoms</td>\n",
       "      <td>problem specification apm dart symptoms target...</td>\n",
       "    </tr>\n",
       "    <tr>\n",
       "      <th>3</th>\n",
       "      <td>NaN</td>\n",
       "      <td>C3146447</td>\n",
       "      <td>Monitor flapping since upgrading from 11.6.3.1...</td>\n",
       "      <td>EOS (18_04_01), BIG-IP, 2000 AC PLATFORM, STRA...</td>\n",
       "      <td>Closed</td>\n",
       "      <td>Configuration</td>\n",
       "      <td>Closed</td>\n",
       "      <td>BIG-IP LTM</td>\n",
       "      <td>F5-BIG-LTM-2000S, C112</td>\n",
       "      <td>LTM-Monitors</td>\n",
       "      <td>...</td>\n",
       "      <td>['From: rcavicchioni@nmi.com\\nTo: c.emailclerk...</td>\n",
       "      <td>['QLNA - device now has Premium support.  Disp...</td>\n",
       "      <td>['Problem Specification: Monitor flapping sinc...</td>\n",
       "      <td>NaN</td>\n",
       "      <td>NaN</td>\n",
       "      <td>NaN</td>\n",
       "      <td>NaN</td>\n",
       "      <td>NaN</td>\n",
       "      <td>monitor flap upgrade qlna</td>\n",
       "      <td>problem specification monitor flap upgrade -pr...</td>\n",
       "    </tr>\n",
       "    <tr>\n",
       "      <th>4</th>\n",
       "      <td>SLM Met</td>\n",
       "      <td>1-5631222221</td>\n",
       "      <td>vip secureauth.arcot.com-https having intermit...</td>\n",
       "      <td>Base registration Key for TMOS-BIG-IP</td>\n",
       "      <td>Closed</td>\n",
       "      <td>Informational</td>\n",
       "      <td>Closed</td>\n",
       "      <td>BIG-IP ASM</td>\n",
       "      <td>F5-BIG-LTM-I4800, BIG-IP</td>\n",
       "      <td>Technical</td>\n",
       "      <td>...</td>\n",
       "      <td>[\"From: paul.edwards@broadcom.com\\nTo: &lt;c.emai...</td>\n",
       "      <td>['ltm virtual /Common/secureauth.arcot.com-htt...</td>\n",
       "      <td>['Problem: spawned from SR 1-5628571821 to add...</td>\n",
       "      <td>['webex chat log:\\n\\nfrom SR 1-5212002751 - Je...</td>\n",
       "      <td>NaN</td>\n",
       "      <td>NaN</td>\n",
       "      <td>NaN</td>\n",
       "      <td>NaN</td>\n",
       "      <td>vip have intermittent timeout</td>\n",
       "      <td>problem spawn sr address timeout authenticatio...</td>\n",
       "    </tr>\n",
       "  </tbody>\n",
       "</table>\n",
       "<p>5 rows × 55 columns</p>\n",
       "</div>"
      ],
      "text/plain": [
       "       F5_SLM_Indicator     SR_Number  \\\n",
       "0               SLM Met      C3134712   \n",
       "1  FR set after SLM Met      C3142146   \n",
       "2               SLM Met      C3142782   \n",
       "3                   NaN      C3146447   \n",
       "4               SLM Met  1-5631222221   \n",
       "\n",
       "                                            Abstract  \\\n",
       "0  7255 chassis has power but will not power back on   \n",
       "1  BIG-IP became Offline status after confg sync....   \n",
       "2           APM 13.1.0.8 - DART Symptoms of ID703171   \n",
       "3  Monitor flapping since upgrading from 11.6.3.1...   \n",
       "4  vip secureauth.arcot.com-https having intermit...   \n",
       "\n",
       "                              F5_Product_Description  Status           Area  \\\n",
       "0  EOS (19_10_01), BIG-IP 7055, WHITETHORNE 2U, A...  Closed  Configuration   \n",
       "1  EOS (18_04_01), BIG-IP, 2000 AC PLATFORM, STRA...  Closed       Software   \n",
       "2  VIPRION VPR-C2400, VICTORIA AC,4 SLOT CHASSIS,...  Closed  Configuration   \n",
       "3  EOS (18_04_01), BIG-IP, 2000 AC PLATFORM, STRA...  Closed  Configuration   \n",
       "4              Base registration Key for TMOS-BIG-IP  Closed  Informational   \n",
       "\n",
       "  Sub_Status  F5_Product                F5_Platform      Sub_Area  ...  \\\n",
       "0     Closed  BIG-IP APM     F5-BIG-LTM-7255V, D110       APM-AAA  ...   \n",
       "1     Closed  BIG-IP ASM     F5-BIG-ASM-2000S, C112        Defect  ...   \n",
       "2     Closed  BIG-IP APM  F5-VPR-LTM-C2400-AC, F100     APM-Other  ...   \n",
       "3     Closed  BIG-IP LTM     F5-BIG-LTM-2000S, C112  LTM-Monitors  ...   \n",
       "4     Closed  BIG-IP ASM   F5-BIG-LTM-I4800, BIG-IP     Technical  ...   \n",
       "\n",
       "                                     Email - Inbound  \\\n",
       "0  ['From: Nick.Volonakis@voya.com\\nTo: \"c.emailc...   \n",
       "1                                                NaN   \n",
       "2  [\"From: support@kudelskisecurity.com\\nTo: <c.e...   \n",
       "3  ['From: rcavicchioni@nmi.com\\nTo: c.emailclerk...   \n",
       "4  [\"From: paul.edwards@broadcom.com\\nTo: <c.emai...   \n",
       "\n",
       "                                            Research  \\\n",
       "0  ['You can follow the next article. Please let ...   \n",
       "1  [\"==== bdgfwf02.jhf-prod.local\\n==== /var/log/...   \n",
       "2  [\"PRODUCT:\\nAPM 13.1.0.8 - DART Symptoms of ID...   \n",
       "3  ['QLNA - device now has Premium support.  Disp...   \n",
       "4  ['ltm virtual /Common/secureauth.arcot.com-htt...   \n",
       "\n",
       "                       Problem, Analysis, Resolution  \\\n",
       "0  ['Problem Specification: 7255 chassis has powe...   \n",
       "1  ['### Problem Specification ###\\n bigip became...   \n",
       "2  [\"Problem Specification: APM 13.1.0.8 - DART S...   \n",
       "3  ['Problem Specification: Monitor flapping sinc...   \n",
       "4  ['Problem: spawned from SR 1-5628571821 to add...   \n",
       "\n",
       "                                      Call - Inbound Manager Review  \\\n",
       "0                                                NaN            NaN   \n",
       "1                                                NaN            NaN   \n",
       "2                                                NaN            NaN   \n",
       "3                                                NaN            NaN   \n",
       "4  ['webex chat log:\\n\\nfrom SR 1-5212002751 - Je...            NaN   \n",
       "\n",
       "  Mentor Review SRT Mentor  RCA                         Processed_Abstract  \\\n",
       "0           NaN        NaN  NaN                        chassis power power   \n",
       "1           NaN        NaN  NaN  big ip offline status confg sync ref qljp   \n",
       "2           NaN        NaN  NaN                          apm dart symptoms   \n",
       "3           NaN        NaN  NaN                  monitor flap upgrade qlna   \n",
       "4           NaN        NaN  NaN              vip have intermittent timeout   \n",
       "\n",
       "                                       Processed_PAR  \n",
       "0  problem specification chassis power power big ...  \n",
       "1  problem specification bigip offline config syn...  \n",
       "2  problem specification apm dart symptoms target...  \n",
       "3  problem specification monitor flap upgrade -pr...  \n",
       "4  problem spawn sr address timeout authenticatio...  \n",
       "\n",
       "[5 rows x 55 columns]"
      ]
     },
     "execution_count": 2,
     "metadata": {},
     "output_type": "execute_result"
    }
   ],
   "source": [
    "df = pd.read_csv('./../combine_sr.csv')\n",
    "df.head(5)"
   ]
  },
  {
   "cell_type": "code",
   "execution_count": 4,
   "id": "beginning-beijing",
   "metadata": {},
   "outputs": [
    {
     "data": {
      "text/plain": [
       "Index(['F5_SLM_Indicator', 'SR_Number', 'Abstract', 'F5_Product_Description',\n",
       "       'Status', 'Area', 'Sub_Status', 'F5_Product', 'F5_Platform', 'Sub_Area',\n",
       "       'F5_Product_Version', 'F5_Hotfix', 'Parent_SR_Number', 'Severity',\n",
       "       'Account', 'Created', 'F5_Last_Resolved_Date',\n",
       "       'F5_Time_Since_Last_Contact', 'F5_Ask_F5_ID', 'F5_Cloud_Platform',\n",
       "       'F5_Has_SKD_Session', 'F5_Duration', 'F5_Service_Level',\n",
       "       'F5_Has_Service_Orders', 'F5_Entitlement_Account',\n",
       "       'F5_CSP_Created_Date', 'F5_CSP_Last_Updated_Date',\n",
       "       'F5_Entitlement_Type', 'F5_Time_To_SLA', 'F5_Last_Modified',\n",
       "       'F5_Entitlement_Service_Level', 'F5_RMA_Type', 'F5_Resolution_Code',\n",
       "       'ClosedDate', 'State', 'Country', 'F5_EUD_Result', 'F5_EUD_Summary',\n",
       "       'F5_Appliance_Engineering_Id', 'F5_SLM_Due_Date', 'Product_Part_Number',\n",
       "       'AspenNS_Closed', 'Notes', 'Call - Outbound', 'Email - Outbound',\n",
       "       'Email - Inbound', 'Research', 'Problem, Analysis, Resolution',\n",
       "       'Call - Inbound', 'Manager Review', 'Mentor Review', 'SRT Mentor',\n",
       "       'RCA', 'Processed_Abstract', 'Processed_PAR'],\n",
       "      dtype='object')"
      ]
     },
     "execution_count": 4,
     "metadata": {},
     "output_type": "execute_result"
    }
   ],
   "source": [
    "df.columns"
   ]
  },
  {
   "cell_type": "code",
   "execution_count": 6,
   "id": "falling-monroe",
   "metadata": {},
   "outputs": [
    {
     "data": {
      "text/plain": [
       "BIG-IP LTM             83073\n",
       "BIG-IP LTM VE          17555\n",
       "BIG-IP APM             13581\n",
       "Must Specify           11880\n",
       "BIG-IP ASM             10808\n",
       "                       ...  \n",
       "BIG-IP App Conn            1\n",
       "BIG-IP WOM                 1\n",
       "NFV VNF Manager            1\n",
       "BeaconSaaS                 1\n",
       "Marathon-BIGIP-Ctlr        1\n",
       "Name: F5_Product, Length: 65, dtype: int64"
      ]
     },
     "execution_count": 6,
     "metadata": {},
     "output_type": "execute_result"
    }
   ],
   "source": [
    "df['F5_Product'].value_counts()"
   ]
  },
  {
   "cell_type": "code",
   "execution_count": 8,
   "id": "intellectual-storm",
   "metadata": {},
   "outputs": [],
   "source": [
    "df2 = df[['F5_Product', 'Processed_PAR']]"
   ]
  },
  {
   "cell_type": "code",
   "execution_count": 9,
   "id": "naval-mozambique",
   "metadata": {},
   "outputs": [],
   "source": [
    "df2.to_csv('./../product_par.csv')"
   ]
  },
  {
   "cell_type": "code",
   "execution_count": null,
   "id": "verbal-commissioner",
   "metadata": {},
   "outputs": [],
   "source": [
    "# wordcloud visualisations on the processed abstract\n",
    "long_string = ','.join(list(map(str,df['Processed_PAR'].to_list())))\n",
    "# create wordcloud object\n",
    "wordcloud = WordCloud(background_color = 'white', max_words = 5000, contour_width = 3, contour_color = 'steelblue')\n",
    "# generate a word cloud\n",
    "wordcloud.generate(long_string)\n",
    "# Visuals\n",
    "wordcloud.to_image()"
   ]
  },
  {
   "cell_type": "code",
   "execution_count": 4,
   "id": "realistic-central",
   "metadata": {},
   "outputs": [],
   "source": [
    "# nltk.download('stopwords') \n",
    "from nltk.corpus import stopwords\n",
    "stop_words = stopwords.words('english')"
   ]
  },
  {
   "cell_type": "code",
   "execution_count": 5,
   "id": "muslim-repeat",
   "metadata": {},
   "outputs": [],
   "source": [
    "def sent_to_words(sentences):\n",
    "    for sentence in sentences:\n",
    "        # remove punctuations by deacc = True\n",
    "        yield(gensim.utils.simple_preprocess(str(sentence), deacc = True))"
   ]
  },
  {
   "cell_type": "code",
   "execution_count": 6,
   "id": "successful-clothing",
   "metadata": {},
   "outputs": [],
   "source": [
    "def remove_stopwords(texts):\n",
    "    return [[word for word in simple_preprocess(str(doc))\n",
    "            if word not in stop_words] for doc in texts]\n"
   ]
  },
  {
   "cell_type": "code",
   "execution_count": 7,
   "id": "measured-ethics",
   "metadata": {},
   "outputs": [],
   "source": [
    "data = list(map(str, df.Processed_Abstract.values.tolist()))\n",
    "data_words = list(sent_to_words(data))\n",
    "# remove stop words\n",
    "data_words = remove_stopwords(data_words)"
   ]
  },
  {
   "cell_type": "code",
   "execution_count": 8,
   "id": "convinced-johnston",
   "metadata": {},
   "outputs": [
    {
     "name": "stdout",
     "output_type": "stream",
     "text": [
      "['chassis_power', 'power']\n"
     ]
    }
   ],
   "source": [
    "# add bigram and trigram\n",
    "\n",
    "# Build the bigram and trigram models\n",
    "bigram = gensim.models.Phrases(data_words, min_count=1, threshold=1) # higher threshold fewer phrases.\n",
    "trigram = gensim.models.Phrases(bigram[data_words], threshold=1)  \n",
    "\n",
    "# Faster way to get a sentence clubbed as a trigram/bigram\n",
    "bigram_mod = gensim.models.phrases.Phraser(bigram)\n",
    "trigram_mod = gensim.models.phrases.Phraser(trigram)\n",
    "\n",
    "# See trigram example\n",
    "print(trigram_mod[bigram_mod[data_words[0]]])"
   ]
  },
  {
   "cell_type": "code",
   "execution_count": 9,
   "id": "legitimate-party",
   "metadata": {},
   "outputs": [],
   "source": [
    "def make_bigrams(texts):\n",
    "    return [bigram_mod[doc] for doc in texts]\n",
    "\n",
    "def make_trigrams(texts):\n",
    "    return [trigram_mod[bigram_mod[doc]] for doc in texts]\n",
    "\n",
    "data_words = make_bigrams(data_words)\n",
    "data_words = make_trigrams(data_words)"
   ]
  },
  {
   "cell_type": "code",
   "execution_count": 10,
   "id": "funded-cemetery",
   "metadata": {},
   "outputs": [],
   "source": [
    "data_words_non_unigram = []\n",
    "for tokens in data_words:\n",
    "    data_words_non_unigram.append(list(filter(lambda y: '_' in  y, tokens)))"
   ]
  },
  {
   "cell_type": "code",
   "execution_count": 11,
   "id": "monetary-threshold",
   "metadata": {},
   "outputs": [],
   "source": [
    "import gensim.corpora as corpora\n",
    "\n",
    "# Create Dictionary\n",
    "id2word = corpora.Dictionary(data_words_non_unigram)\n",
    "\n",
    "# Create Corpus\n",
    "texts = data_words_non_unigram\n",
    "\n",
    "# Term Document Frequency\n",
    "corpus = [id2word.doc2bow(text) for text in texts]"
   ]
  },
  {
   "cell_type": "code",
   "execution_count": 12,
   "id": "thorough-scenario",
   "metadata": {},
   "outputs": [],
   "source": [
    "# number of topics\n",
    "num_topics = 3\n",
    "# build LDA model\n",
    "lda_model = gensim.models.LdaMulticore(corpus = corpus,\n",
    "                                      id2word = id2word,\n",
    "                                      num_topics = num_topics)"
   ]
  },
  {
   "cell_type": "code",
   "execution_count": 13,
   "id": "spoken-sigma",
   "metadata": {},
   "outputs": [
    {
     "name": "stdout",
     "output_type": "stream",
     "text": [
      "[(0,\n",
      "  '0.030*\"websupport_login_request\" + 0.013*\"virtual_server\" + 0.009*\"big_ip\" '\n",
      "  '+ 0.009*\"vcmp_guest\" + 0.007*\"load_balancer\" + 0.006*\"get_error\" + '\n",
      "  '0.005*\"rma_request\" + 0.005*\"need_help\" + 0.004*\"ip_address\" + '\n",
      "  '0.004*\"high_cpu_utilization\"'),\n",
      " (1,\n",
      "  '0.017*\"big_iq\" + 0.012*\"pool_member\" + 0.006*\"high_cpu\" + '\n",
      "  '0.005*\"release_license\" + 0.004*\"big_ip\" + 0.004*\"health_monitor\" + '\n",
      "  '0.004*\"virtual_server\" + 0.004*\"health_check\" + 0.003*\"proactive_case\" + '\n",
      "  '0.003*\"software_upgrade\"'),\n",
      " (2,\n",
      "  '0.043*\"websupport_login\" + 0.026*\"big_ip\" + 0.014*\"proactive_upgrade\" + '\n",
      "  '0.009*\"need_assistance\" + 0.005*\"power_supply\" + 0.005*\"upgrade_version\" + '\n",
      "  '0.004*\"bug_id\" + 0.004*\"asm_policy\" + 0.004*\"edge_client\" + '\n",
      "  '0.003*\"ha_pair\"')]\n"
     ]
    }
   ],
   "source": [
    "# print the keyword in the topics\n",
    "from pprint import pprint\n",
    "pprint(lda_model.print_topics())"
   ]
  },
  {
   "cell_type": "code",
   "execution_count": 14,
   "id": "friendly-peninsula",
   "metadata": {},
   "outputs": [],
   "source": [
    "# assign each document to the topics with largest probability\n",
    "doc_lda = lda_model[corpus]\n",
    "topics = list(map(lambda x: np.argmax(list(map(lambda y: y[1], x))), doc_lda))"
   ]
  },
  {
   "cell_type": "code",
   "execution_count": 15,
   "id": "residential-amsterdam",
   "metadata": {},
   "outputs": [
    {
     "name": "stdout",
     "output_type": "stream",
     "text": [
      "Coherence Score:  0.7375690808389996\n"
     ]
    }
   ],
   "source": [
    "# Evaluation using coherence score\n",
    "\n",
    "from gensim.models import CoherenceModel\n",
    "# Compute Coherence Score\n",
    "coherence_model_lda = CoherenceModel(model=lda_model, texts=data_words_non_unigram, dictionary=id2word, coherence='c_v')\n",
    "coherence_lda = coherence_model_lda.get_coherence()\n",
    "print('Coherence Score: ', coherence_lda)"
   ]
  },
  {
   "cell_type": "code",
   "execution_count": 16,
   "id": "tired-collins",
   "metadata": {},
   "outputs": [],
   "source": [
    "# hyper parameters tuning\n",
    "\n",
    "# supporting function\n",
    "def compute_coherence_values(corpus, dictionary, k, a, b):\n",
    "    \n",
    "    model = gensim.models.LdaMulticore(corpus=corpus, id2word=dictionary,\n",
    "                                       num_topics=k, alpha=a, eta=b)\n",
    "    \n",
    "    coherence_model_lda = CoherenceModel(model=lda_model, texts=data_words_non_unigram, dictionary=id2word, coherence='c_v')\n",
    "    \n",
    "    return coherence_model_lda.get_coherence()"
   ]
  },
  {
   "cell_type": "code",
   "execution_count": 17,
   "id": "vanilla-tractor",
   "metadata": {},
   "outputs": [],
   "source": [
    "from tqdm import tqdm\n",
    "\n",
    "# Grid search\n",
    "grid = {}\n",
    "grid['Validation_Set'] = {}\n",
    "# Topics range\n",
    "min_topics = 2\n",
    "max_topics = 11\n",
    "step_size = 1\n",
    "topics_range = range(min_topics, max_topics, step_size)\n",
    "# Alpha parameter\n",
    "alpha = list(np.arange(0.01, 1, 0.3))\n",
    "alpha.append('symmetric')\n",
    "alpha.append('asymmetric')\n",
    "# Beta parameter\n",
    "beta = list(np.arange(0.01, 1, 0.3))\n",
    "beta.append('symmetric')\n",
    "# Validation sets\n",
    "num_of_docs = len(corpus)\n",
    "\n",
    "from collections import defaultdict\n",
    "model_results = defaultdict(list)\n",
    "\n"
   ]
  },
  {
   "cell_type": "code",
   "execution_count": 18,
   "id": "roman-billy",
   "metadata": {},
   "outputs": [
    {
     "name": "stderr",
     "output_type": "stream",
     "text": [
      "100%|██████████| 270/270 [40:33<00:00,  9.01s/it]\n"
     ]
    }
   ],
   "source": [
    "# Can take a long time to run\n",
    "\n",
    "pbar = tqdm(total=270)\n",
    "#iterate through number of topics\n",
    "for k in topics_range:\n",
    "    # iterate through alpha values\n",
    "    for a in alpha:\n",
    "        # iterare through beta values\n",
    "        for b in beta:\n",
    "            # get the coherence score for the given parameters\n",
    "            cv = compute_coherence_values(corpus=corpus, dictionary=id2word, \n",
    "                                          k=k, a=a, b=b)\n",
    "            # Save the model results\n",
    "            model_results['Topics'].append(k)\n",
    "            model_results['Alpha'].append(a)\n",
    "            model_results['Beta'].append(b)\n",
    "            model_results['Coherence'].append(cv)\n",
    "\n",
    "            pbar.update(1)\n",
    "\n",
    "pd.DataFrame(model_results).to_csv('lda_tuning_results.csv', index=False)\n",
    "pbar.close()"
   ]
  },
  {
   "cell_type": "code",
   "execution_count": 19,
   "id": "needed-calculation",
   "metadata": {
    "scrolled": true
   },
   "outputs": [
    {
     "data": {
      "text/html": [
       "<div>\n",
       "<style scoped>\n",
       "    .dataframe tbody tr th:only-of-type {\n",
       "        vertical-align: middle;\n",
       "    }\n",
       "\n",
       "    .dataframe tbody tr th {\n",
       "        vertical-align: top;\n",
       "    }\n",
       "\n",
       "    .dataframe thead th {\n",
       "        text-align: right;\n",
       "    }\n",
       "</style>\n",
       "<table border=\"1\" class=\"dataframe\">\n",
       "  <thead>\n",
       "    <tr style=\"text-align: right;\">\n",
       "      <th></th>\n",
       "      <th>Topics</th>\n",
       "      <th>Alpha</th>\n",
       "      <th>Beta</th>\n",
       "      <th>Coherence</th>\n",
       "    </tr>\n",
       "  </thead>\n",
       "  <tbody>\n",
       "    <tr>\n",
       "      <th>0</th>\n",
       "      <td>2</td>\n",
       "      <td>0.01</td>\n",
       "      <td>0.01</td>\n",
       "      <td>0.737569</td>\n",
       "    </tr>\n",
       "    <tr>\n",
       "      <th>1</th>\n",
       "      <td>2</td>\n",
       "      <td>0.01</td>\n",
       "      <td>0.31</td>\n",
       "      <td>0.737569</td>\n",
       "    </tr>\n",
       "    <tr>\n",
       "      <th>2</th>\n",
       "      <td>2</td>\n",
       "      <td>0.01</td>\n",
       "      <td>0.61</td>\n",
       "      <td>0.737569</td>\n",
       "    </tr>\n",
       "    <tr>\n",
       "      <th>3</th>\n",
       "      <td>2</td>\n",
       "      <td>0.01</td>\n",
       "      <td>0.9099999999999999</td>\n",
       "      <td>0.737569</td>\n",
       "    </tr>\n",
       "    <tr>\n",
       "      <th>4</th>\n",
       "      <td>2</td>\n",
       "      <td>0.01</td>\n",
       "      <td>symmetric</td>\n",
       "      <td>0.737569</td>\n",
       "    </tr>\n",
       "  </tbody>\n",
       "</table>\n",
       "</div>"
      ],
      "text/plain": [
       "   Topics Alpha                Beta  Coherence\n",
       "0       2  0.01                0.01   0.737569\n",
       "1       2  0.01                0.31   0.737569\n",
       "2       2  0.01                0.61   0.737569\n",
       "3       2  0.01  0.9099999999999999   0.737569\n",
       "4       2  0.01           symmetric   0.737569"
      ]
     },
     "execution_count": 19,
     "metadata": {},
     "output_type": "execute_result"
    }
   ],
   "source": [
    "# load lda tuning results\n",
    "tune_df = pd.read_csv('lda_tuning_results.csv')\n",
    "tune_df.head()"
   ]
  },
  {
   "cell_type": "code",
   "execution_count": 23,
   "id": "magnetic-tattoo",
   "metadata": {},
   "outputs": [
    {
     "data": {
      "image/png": "[encoded data removed]",
      "text/plain": [
       "<Figure size 432x288 with 1 Axes>"
      ]
     },
     "metadata": {
      "needs_background": "light"
     },
     "output_type": "display_data"
    }
   ],
   "source": [
    "import matplotlib.pyplot as plt\n",
    "\n",
    "plt.hist(tune_df.Coherence, bins = 10)\n",
    "plt.show()\n",
    "\n",
    "# this is so weird, all models generate the same coherence measures"
   ]
  },
  {
   "cell_type": "code",
   "execution_count": 21,
   "id": "residential-diesel",
   "metadata": {},
   "outputs": [
    {
     "data": {
      "text/plain": [
       "Topics              2\n",
       "Alpha            0.01\n",
       "Beta             0.01\n",
       "Coherence    0.737569\n",
       "Name: 0, dtype: object"
      ]
     },
     "execution_count": 21,
     "metadata": {},
     "output_type": "execute_result"
    }
   ],
   "source": [
    "# find the set of parameters that give the highest coherence measures\n",
    "index = tune_df.Coherence.argmax()\n",
    "tune_df.iloc[index]"
   ]
  },
  {
   "cell_type": "code",
   "execution_count": 26,
   "id": "numerous-passing",
   "metadata": {},
   "outputs": [
    {
     "name": "stdout",
     "output_type": "stream",
     "text": [
      "[(0,\n",
      "  '0.036*\"websupport_login\" + 0.027*\"websupport_login_request\" + '\n",
      "  '0.026*\"big_ip\" + 0.014*\"big_iq\" + 0.013*\"virtual_server\" + '\n",
      "  '0.012*\"proactive_upgrade\" + 0.008*\"pool_member\" + 0.005*\"need_help\" + '\n",
      "  '0.004*\"load_balancer\" + 0.004*\"power_supply\"'),\n",
      " (1,\n",
      "  '0.010*\"big_ip\" + 0.010*\"vcmp_guest\" + 0.008*\"need_assistance\" + '\n",
      "  '0.006*\"big_iq\" + 0.005*\"high_cpu\" + 0.005*\"release_license\" + '\n",
      "  '0.004*\"bug_id\" + 0.004*\"rma_request\" + 0.004*\"websupport_login\" + '\n",
      "  '0.004*\"health_check\"')]\n"
     ]
    }
   ],
   "source": [
    "model = gensim.models.LdaMulticore(corpus=corpus, id2word=id2word,\n",
    "                                       num_topics=2, alpha=0.01, eta=0.01)\n",
    "\n",
    "pprint(model.print_topics())"
   ]
  },
  {
   "cell_type": "code",
   "execution_count": null,
   "id": "adequate-trouble",
   "metadata": {},
   "outputs": [],
   "source": [
    "import pyLDAvis\n",
    "import pyLDAvis.gensim\n",
    "import pickle\n",
    "\n",
    "version = 0\n",
    "\n",
    "# visualize the topics\n",
    "pyLDAvis.enable_notebook()\n",
    "LDAvis_data_filepath = os.path.join('./LDA_results/ldavis_prepared_{}_v{}'.format(num_topics, version))\n",
    "\n",
    "LDAvis_prepared = pyLDAvis.gensim.prepare(lda_model, corpus, id2word)\n",
    "with open(LDAvis_data_filepath, 'wb') as f:\n",
    "    pickle.dump(LDAvis_prepared, f)\n",
    "\n",
    "# load the pyLDAvis data from disk\n",
    "with open(LDAvis_data_filepath, 'rb') as f:\n",
    "    LDAvis_prepared = pickle.load(f)\n",
    "\n",
    "pyLDAvis.save_html(LDAvis_prepared, './LDA_results/ldavis_prepared_{}_v{}.html'.format(num_topics, version))\n",
    "LDAvis_prepared\n",
    "                   "
   ]
  },
  {
   "cell_type": "code",
   "execution_count": null,
   "id": "auburn-worry",
   "metadata": {},
   "outputs": [],
   "source": [
    "# save model\n",
    "lda_model.save('best_lda.model')\n",
    "\n",
    "# load model later\n",
    "# model = gensim.models.LdaModel.load('lda.model')"
   ]
  },
  {
   "cell_type": "code",
   "execution_count": null,
   "id": "universal-burton",
   "metadata": {},
   "outputs": [],
   "source": []
  }
 ],
 "metadata": {
  "kernelspec": {
   "display_name": "Python 3",
   "language": "python",
   "name": "python3"
  },
  "language_info": {
   "codemirror_mode": {
    "name": "ipython",
    "version": 3
   },
   "file_extension": ".py",
   "mimetype": "text/x-python",
   "name": "python",
   "nbconvert_exporter": "python",
   "pygments_lexer": "ipython3",
   "version": "3.7.10"
  }
 },
 "nbformat": 4,
 "nbformat_minor": 5
}

{
 "cells": [
  {
   "cell_type": "code",
   "execution_count": null,
   "id": "controlled-creature",
   "metadata": {},
   "outputs": [],
   "source": [
    "import matplotlib.pyplot as plt\n",
    "from wordcloud import WordCloud\n",
    "import pandas as pd\n",
    "import os"
   ]
  },
  {
   "cell_type": "code",
   "execution_count": null,
   "id": "happy-platform",
   "metadata": {},
   "outputs": [],
   "source": [
    "def plot_record_count(df_cluster, product_name):\n",
    "    \n",
    "    # visualize distribution of clusters\n",
    "    plt.bar(df_cluster.cluster_labels, df_cluster.Processed_PAR)\n",
    "    plt.title('{} Number of Records per Cluster'.format(product_name))\n",
    "    plt.xlabel('Cluster')\n",
    "    plt.ylabel('Count')\n",
    "    plt.show()"
   ]
  },
  {
   "cell_type": "code",
   "execution_count": null,
   "id": "specific-hampton",
   "metadata": {},
   "outputs": [],
   "source": [
    "def plot_wordcloud(df_cluster, product_name):\n",
    "    \n",
    "    # select top 10 clusters with the most number of documents\n",
    "    top_ten = df_cluster.sort_values(by='Processed_PAR', ascending=False).head(10)\n",
    "    # subset dataframe with top 10 clusters\n",
    "    df_top_ten = df[df.cluster_labels.isin(top_ten.cluster_labels.tolist())]\n",
    "    \n",
    "    # visualize top 10 clusters as word cloud\n",
    "    fig = plt.figure(figsize=(18,10))\n",
    "    plt.title(product_name)\n",
    "    plt.axis('off')\n",
    "    axes=[]\n",
    "    cols = 3\n",
    "    rows = 3\n",
    "    for i in range(rows * cols):\n",
    "        df1 = df_top_ten[df_top_ten.cluster_labels == top_ten.cluster_labels.tolist()[i]]\n",
    "        text = \" \".join(par for par in df1.Processed_PAR)\n",
    "\n",
    "        wordcloud = WordCloud(background_color=\"white\", max_words=60).generate(text)\n",
    "        axes.append(fig.add_subplot(rows, cols, i+1) )\n",
    "        plt.imshow(wordcloud, interpolation='nearest')\n",
    "    plt.show()"
   ]
  },
  {
   "cell_type": "code",
   "execution_count": null,
   "id": "pretty-closer",
   "metadata": {
    "scrolled": false
   },
   "outputs": [],
   "source": [
    "cwd = os.getcwd()\n",
    "os.chdir('./data')\n",
    "files = [f for f in os.listdir('.') if os.path.isfile(f)]\n",
    "for file in files:\n",
    "    df = pd.read_csv(file)\n",
    "    product_name = df.at[0,'F5_Product']\n",
    "    # group by cluster label\n",
    "    df_cluster = df.groupby('cluster_labels').count()\n",
    "    # convert index into column\n",
    "    df_cluster['cluster_labels'] = df_cluster.index\n",
    "    plot_record_count(df_cluster, product_name)\n",
    "    plot_wordcloud(df_cluster, product_name)\n",
    "\n",
    "os.chdir(cwd)"
   ]
  },
  {
   "cell_type": "code",
   "execution_count": null,
   "id": "wireless-notice",
   "metadata": {},
   "outputs": [],
   "source": []
  }
 ],
 "metadata": {
  "kernelspec": {
   "display_name": "Python 3",
   "language": "python",
   "name": "python3"
  },
  "language_info": {
   "codemirror_mode": {
    "name": "ipython",
    "version": 3
   },
   "file_extension": ".py",
   "mimetype": "text/x-python",
   "name": "python",
   "nbconvert_exporter": "python",
   "pygments_lexer": "ipython3",
   "version": "3.7.10"
  }
 },
 "nbformat": 4,
 "nbformat_minor": 5
}
